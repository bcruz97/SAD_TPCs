{
  "nbformat": 4,
  "nbformat_minor": 0,
  "metadata": {
    "colab": {
      "name": "TPC4.ipynb",
      "version": "0.3.2",
      "provenance": [],
      "include_colab_link": true
    },
    "kernelspec": {
      "name": "python3",
      "display_name": "Python 3"
    }
  },
  "cells": [
    {
      "cell_type": "markdown",
      "metadata": {
        "id": "view-in-github",
        "colab_type": "text"
      },
      "source": [
        "<a href=\"https://colab.research.google.com/github/bcruz97/SAD_TPCs/blob/master/TPC4.ipynb\" target=\"_parent\"><img src=\"https://colab.research.google.com/assets/colab-badge.svg\" alt=\"Open In Colab\"/></a>"
      ]
    },
    {
      "metadata": {
        "id": "9-bCkTxPLj8n",
        "colab_type": "text"
      },
      "cell_type": "markdown",
      "source": [
        "SAD - TPC 4\n",
        "Aplicar Algoritmos:\n",
        "\n",
        "Usando sklearn correr os métodos Decision Tree, Random Forrest e Naive Bayes para o dataset Digits, definido em baixo;\n",
        "\n",
        "Usar o training set para executar o treino do modelo;\n",
        "\n",
        "Comparar o erro obtido em cada método, para o testset e para o training set e expecificar se os valores são os esperados;\n",
        "\n",
        "Para um dos algoritmos, dar exemplos do test set de instâncias mal bem classificadas (2 de cada);"
      ]
    },
    {
      "metadata": {
        "id": "sW8kJRu9LZLX",
        "colab_type": "code",
        "colab": {}
      },
      "cell_type": "code",
      "source": [
        "from sklearn import datasets\n",
        "from sklearn import tree\n",
        "from sklearn import model_selection\n",
        "from sklearn.ensemble import RandomForestClassifier\n",
        "from matplotlib.colors import ListedColormap\n",
        "from sklearn.metrics import accuracy_score \n",
        "from sklearn.naive_bayes import GaussianNB\n",
        "import pandas as pd\n",
        "import numpy as np\n",
        "import matplotlib.pyplot as plt\n",
        "\n",
        "#The Digits Dataset\n",
        "digits = datasets.load_digits()"
      ],
      "execution_count": 0,
      "outputs": []
    },
    {
      "metadata": {
        "id": "NNZM9Is2PC1Z",
        "colab_type": "text"
      },
      "cell_type": "markdown",
      "source": [
        "**Decision Tree Model**"
      ]
    },
    {
      "metadata": {
        "id": "CPfDXeMTPHZg",
        "colab_type": "code",
        "colab": {
          "base_uri": "https://localhost:8080/",
          "height": 102
        },
        "outputId": "2c6fe6e8-6811-4a99-fabe-39b4718790fa"
      },
      "cell_type": "code",
      "source": [
        "[features_train, features_test, classes_train, classes_test] = model_selection.train_test_split(digits.data, digits.target, test_size=0.30, random_state = 100) \n",
        "dtm = tree.DecisionTreeClassifier()\n",
        "\n",
        "clf = dtm.fit(features_train, classes_train)\n",
        "\n",
        "score_train = dtm.score(features_train, classes_train)\n",
        "score_test = dtm.score(features_test, classes_test)\n",
        "\n",
        "MyShape = digits.data\n",
        "\n",
        "print(\"Shape:\",MyShape.shape )\n",
        "print()\n",
        "print(\"Features:\", digits.target_names)\n",
        "print(\"Score_train:\", score_train)\n",
        "print(\"Score_test:\", score_test)"
      ],
      "execution_count": 16,
      "outputs": [
        {
          "output_type": "stream",
          "text": [
            "Shape: (1797, 64)\n",
            "\n",
            "Features: [0 1 2 3 4 5 6 7 8 9]\n",
            "Score_train: 1.0\n",
            "Score_test: 0.85\n"
          ],
          "name": "stdout"
        }
      ]
    },
    {
      "metadata": {
        "id": "bBXXSKdwP-cF",
        "colab_type": "text"
      },
      "cell_type": "markdown",
      "source": [
        "**Random Forrest Model**"
      ]
    },
    {
      "metadata": {
        "id": "vdrxoHkQQJfN",
        "colab_type": "code",
        "colab": {
          "base_uri": "https://localhost:8080/",
          "height": 68
        },
        "outputId": "e9f7a491-3079-4649-8f14-a32ef4db97ea"
      },
      "cell_type": "code",
      "source": [
        "rfm = RandomForestClassifier(n_estimators=1000)\n",
        "\n",
        "clf = rfm.fit(features_train, classes_train)\n",
        "\n",
        "datasetTest = rfm.predict(features_test)\n",
        "\n",
        "score_train = rfm.score(features_train, classes_train)\n",
        "score_test = rfm.score(features_test, classes_test)\n",
        "\n",
        "print(\"Features:\", digits.target_names)\n",
        "print(\"Score_train:\", score_train)\n",
        "print(\"Score_test:\", score_test)\n",
        "\n"
      ],
      "execution_count": 26,
      "outputs": [
        {
          "output_type": "stream",
          "text": [
            "Features: [0 1 2 3 4 5 6 7 8 9]\n",
            "Score_train: 1.0\n",
            "Score_test: 0.9685185185185186\n"
          ],
          "name": "stdout"
        }
      ]
    },
    {
      "metadata": {
        "id": "bvUC95MnQkus",
        "colab_type": "text"
      },
      "cell_type": "markdown",
      "source": [
        "**Naive Bayes Model**"
      ]
    },
    {
      "metadata": {
        "id": "xIcEyN2uQoVs",
        "colab_type": "code",
        "colab": {
          "base_uri": "https://localhost:8080/",
          "height": 68
        },
        "outputId": "5926d57b-05cf-48a8-eecb-95ec488a12ac"
      },
      "cell_type": "code",
      "source": [
        "gnb = GaussianNB()\n",
        "\n",
        "clf = gnb.fit(features_train, classes_train)\n",
        "\n",
        "score_train = gnb.score(features_train, classes_train)\n",
        "score_test = gnb.score(features_test, classes_test)\n",
        "\n",
        "print(\"Features:\", digits.target_names)\n",
        "print(\"Score_train:\", score_train)\n",
        "print(\"Score_test:\", score_test)"
      ],
      "execution_count": 24,
      "outputs": [
        {
          "output_type": "stream",
          "text": [
            "Features: [0 1 2 3 4 5 6 7 8 9]\n",
            "Score_train: 0.8591885441527446\n",
            "Score_test: 0.8203703703703704\n"
          ],
          "name": "stdout"
        }
      ]
    },
    {
      "metadata": {
        "id": "PtGSGyNNShJQ",
        "colab_type": "text"
      },
      "cell_type": "markdown",
      "source": [
        "**Test set de Instâncias mal bem classificadas**"
      ]
    },
    {
      "metadata": {
        "id": "C-4LpQzuSsQQ",
        "colab_type": "code",
        "colab": {
          "base_uri": "https://localhost:8080/",
          "height": 54
        },
        "outputId": "40f76842-a730-4e8e-b9c7-27654a148f96"
      },
      "cell_type": "code",
      "source": [
        "def Teste():\n",
        "  \n",
        "  datasetValues = []\n",
        "  for i in digits.target:\n",
        "    if datasetTest[i] != digits.target[i]:         \n",
        "      datasetValues.append(i)\n",
        "      \n",
        "  print(\"Instâncias mal bem classificadas \",datasetValues)\n",
        "    \n",
        "    \n",
        "Teste()"
      ],
      "execution_count": 31,
      "outputs": [
        {
          "output_type": "stream",
          "text": [
            "Instâncias mal bem classificadas  [0, 1, 2, 3, 6, 7, 8, 9, 0, 1, 2, 3, 6, 7, 8, 9, 0, 1, 2, 3, 6, 7, 8, 9, 0, 9, 6, 0, 9, 8, 9, 8, 1, 7, 7, 3, 1, 0, 0, 2, 2, 7, 8, 2, 0, 1, 2, 6, 3, 3, 7, 3, 3, 6, 6, 6, 9, 1, 0, 9, 2, 8, 2, 0, 0, 1, 7, 6, 3, 2, 1, 7, 6, 3, 1, 3, 9, 1, 7, 6, 8, 3, 1, 0, 3, 6, 9, 6, 1, 7, 7, 2, 8, 2, 2, 7, 9, 8, 8, 9, 0, 8, 9, 8, 0, 1, 2, 3, 6, 7, 8, 9, 0, 1, 2, 3, 6, 7, 8, 9, 0, 1, 2, 3, 6, 7, 8, 9, 0, 9, 6, 0, 9, 8, 9, 8, 1, 7, 7, 3, 1, 0, 0, 2, 2, 7, 8, 2, 0, 1, 2, 6, 3, 3, 7, 3, 3, 6, 6, 6, 9, 1, 0, 9, 2, 8, 2, 0, 0, 1, 7, 6, 3, 2, 1, 7, 3, 1, 3, 9, 1, 7, 6, 8, 3, 1, 0, 3, 6, 9, 6, 1, 7, 7, 2, 8, 2, 2, 8, 8, 9, 0, 8, 9, 8, 0, 1, 2, 3, 6, 7, 8, 9, 0, 1, 2, 3, 6, 7, 8, 9, 0, 1, 2, 3, 6, 7, 8, 9, 0, 9, 6, 0, 9, 8, 9, 8, 1, 7, 7, 3, 1, 0, 0, 2, 2, 7, 8, 2, 0, 1, 2, 6, 3, 3, 7, 3, 3, 6, 6, 6, 9, 1, 0, 9, 2, 8, 2, 0, 0, 1, 7, 6, 3, 2, 1, 7, 6, 3, 1, 3, 9, 1, 7, 6, 8, 3, 1, 0, 3, 6, 9, 6, 1, 7, 7, 2, 8, 2, 2, 7, 9, 8, 8, 9, 0, 8, 9, 3, 0, 1, 2, 3, 6, 7, 8, 9, 0, 1, 2, 3, 6, 7, 8, 9, 0, 1, 2, 3, 6, 7, 8, 9, 0, 9, 6, 0, 9, 8, 9, 8, 1, 7, 7, 3, 1, 0, 0, 2, 2, 7, 8, 2, 0, 1, 2, 6, 3, 3, 7, 3, 3, 6, 6, 6, 9, 1, 0, 9, 2, 8, 2, 0, 0, 1, 7, 6, 3, 2, 1, 7, 6, 3, 1, 3, 9, 1, 7, 6, 8, 3, 1, 0, 3, 6, 9, 6, 1, 7, 7, 2, 8, 2, 2, 7, 9, 8, 8, 9, 0, 8, 9, 8, 0, 1, 2, 3, 6, 7, 8, 9, 0, 1, 2, 3, 6, 7, 8, 9, 0, 1, 2, 3, 6, 7, 8, 9, 0, 9, 6, 0, 9, 8, 9, 8, 1, 7, 7, 3, 1, 0, 0, 2, 2, 7, 8, 2, 0, 1, 2, 6, 3, 3, 7, 3, 3, 6, 6, 6, 9, 1, 0, 9, 2, 8, 2, 0, 0, 1, 7, 6, 3, 2, 1, 7, 6, 3, 1, 3, 9, 1, 7, 6, 8, 3, 1, 0, 3, 6, 9, 6, 1, 7, 7, 2, 8, 2, 2, 7, 9, 8, 8, 9, 0, 8, 9, 8, 0, 1, 2, 3, 6, 7, 8, 9, 0, 1, 2, 3, 6, 7, 8, 9, 0, 1, 2, 3, 6, 7, 8, 9, 0, 9, 6, 0, 9, 8, 9, 8, 1, 7, 7, 3, 1, 0, 0, 2, 2, 7, 8, 2, 0, 1, 2, 6, 3, 3, 7, 3, 3, 6, 6, 6, 9, 1, 0, 9, 2, 8, 2, 0, 0, 1, 7, 6, 3, 2, 1, 7, 6, 3, 1, 3, 9, 1, 7, 6, 8, 3, 1, 0, 3, 6, 9, 6, 1, 7, 7, 2, 8, 2, 2, 7, 9, 8, 8, 9, 0, 8, 9, 8, 0, 1, 2, 3, 6, 7, 8, 9, 0, 1, 2, 3, 6, 7, 8, 9, 0, 1, 2, 3, 6, 7, 8, 9, 0, 9, 6, 0, 9, 8, 9, 8, 1, 7, 7, 3, 1, 0, 0, 2, 2, 7, 8, 2, 0, 1, 2, 6, 3, 3, 7, 3, 3, 6, 6, 6, 9, 1, 0, 9, 2, 8, 2, 0, 0, 1, 7, 6, 3, 2, 1, 7, 6, 3, 1, 3, 9, 1, 7, 6, 8, 3, 1, 0, 3, 6, 9, 6, 1, 7, 7, 2, 8, 2, 2, 7, 9, 8, 8, 9, 0, 8, 9, 8, 1, 2, 3, 6, 7, 8, 9, 0, 1, 2, 3, 6, 7, 8, 9, 0, 1, 2, 3, 6, 7, 8, 9, 0, 9, 6, 0, 9, 8, 9, 8, 1, 7, 7, 3, 1, 2, 7, 8, 2, 0, 1, 2, 6, 3, 3, 7, 3, 3, 6, 6, 6, 9, 1, 0, 9, 2, 8, 2, 0, 0, 1, 7, 6, 3, 2, 1, 6, 3, 1, 3, 9, 1, 7, 6, 8, 3, 1, 0, 3, 6, 9, 6, 1, 7, 7, 2, 8, 2, 2, 7, 9, 9, 0, 8, 9, 8, 0, 1, 2, 3, 6, 7, 8, 9, 0, 1, 2, 3, 6, 7, 8, 9, 0, 1, 2, 3, 6, 7, 8, 9, 0, 9, 6, 0, 9, 8, 9, 8, 1, 7, 7, 3, 1, 0, 0, 7, 8, 2, 0, 1, 2, 6, 3, 3, 7, 3, 3, 6, 6, 6, 9, 1, 0, 9, 2, 8, 2, 0, 0, 1, 7, 6, 3, 2, 1, 7, 6, 3, 1, 3, 9, 1, 7, 6, 8, 3, 1, 0, 3, 6, 9, 6, 1, 7, 7, 2, 8, 2, 2, 7, 9, 8, 8, 9, 0, 8, 9, 8, 0, 1, 2, 3, 6, 7, 8, 9, 0, 1, 2, 3, 6, 7, 8, 9, 0, 1, 2, 3, 6, 7, 8, 9, 0, 9, 6, 0, 9, 8, 9, 8, 1, 7, 7, 3, 1, 0, 0, 2, 2, 7, 8, 2, 0, 1, 2, 6, 3, 3, 7, 3, 3, 6, 6, 6, 9, 1, 0, 9, 2, 8, 2, 0, 0, 1, 7, 6, 3, 2, 1, 7, 6, 3, 1, 3, 9, 1, 7, 6, 8, 3, 1, 0, 3, 6, 9, 6, 1, 7, 7, 2, 8, 2, 2, 7, 9, 8, 8, 9, 0, 8, 9, 8, 0, 1, 2, 3, 6, 7, 8, 9, 0, 1, 2, 3, 6, 7, 8, 9, 0, 1, 2, 3, 6, 7, 8, 9, 0, 9, 6, 0, 9, 8, 9, 8, 1, 7, 7, 3, 1, 0, 0, 2, 2, 7, 8, 2, 0, 1, 2, 6, 3, 3, 7, 3, 3, 6, 6, 6, 9, 1, 0, 9, 2, 8, 2, 0, 0, 1, 7, 6, 3, 2, 1, 7, 6, 3, 1, 3, 9, 1, 7, 6, 8, 3, 1, 0, 3, 6, 9, 6, 1, 7, 7, 2, 8, 2, 2, 7, 9, 8, 8, 9, 0, 8, 0, 1, 2, 3, 6, 7, 8, 9, 0, 1, 2, 3, 6, 7, 8, 9, 0, 1, 2, 3, 6, 7, 8, 9, 0, 9, 6, 0, 9, 8, 9, 8, 1, 7, 7, 3, 1, 0, 0, 2, 2, 7, 8, 2, 0, 1, 2, 6, 3, 3, 7, 3, 3, 6, 6, 6, 9, 1, 0, 9, 2, 8, 2, 0, 0, 1, 7, 6, 3, 2, 1, 7, 6, 3, 1, 3, 9, 1, 7, 6, 8, 3, 1, 0, 3, 6, 9, 6, 1, 7, 7, 2, 8, 2, 2, 7, 9, 8, 8, 9, 0, 8, 9, 8, 0, 1, 2, 3, 6, 7, 8, 9, 0, 1, 2, 3, 6, 9, 0, 1, 2, 3, 6, 7, 8, 9, 0, 9, 6, 0, 9, 8, 9, 8, 1, 7, 7, 3, 1, 0, 0, 2, 2, 7, 8, 2, 0, 1, 2, 6, 3, 3, 7, 3, 3, 6, 6, 6, 9, 1, 0, 9, 2, 8, 0, 1, 7, 6, 3, 2, 1, 7, 6, 3, 1, 3, 9, 1, 7, 6, 8, 3, 1, 0, 3, 6, 9, 6, 1, 7, 7, 2, 2, 7, 9, 9, 0, 8, 9, 8, 0, 1, 2, 3, 6, 7, 8, 9, 0, 1, 2, 3, 6, 7, 8, 9, 0, 1, 2, 3, 6, 7, 8, 9, 0, 9, 6, 0, 9, 8, 9, 8, 1, 7, 7, 3, 1, 0, 0, 2, 2, 7, 8, 2, 0, 1, 2, 6, 3, 3, 7, 3, 3, 6, 6, 6, 9, 1, 0, 9, 2, 8, 2, 0, 0, 1, 7, 6, 3, 2, 1, 7, 6, 3, 1, 3, 9, 1, 7, 6, 8, 3, 1, 0, 3, 6, 9, 6, 1, 7, 7, 2, 8, 2, 2, 7, 9, 8, 8, 9, 0, 8, 9, 8]\n"
          ],
          "name": "stdout"
        }
      ]
    }
  ]
}